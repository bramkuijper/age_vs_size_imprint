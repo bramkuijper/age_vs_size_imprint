{
 "cells": [
  {
   "cell_type": "markdown",
   "metadata": {},
   "source": [
    "# Genomic imprinting and age at maturity"
   ]
  },
  {
   "cell_type": "markdown",
   "metadata": {},
   "source": [
    "## Variable definitions"
   ]
  },
  {
   "cell_type": "code",
   "execution_count": 1151,
   "metadata": {
    "collapsed": true
   },
   "outputs": [],
   "source": [
    "# show matplotlib plots inline\n",
    "%matplotlib inline\n",
    "from sympy import *\n",
    "import numpy as np\n",
    "from IPython.display import display\n",
    "import matplotlib.pyplot as plt\n",
    "\n",
    "# improve display of formulas\n",
    "init_printing(use_latex='mathjax')"
   ]
  },
  {
   "cell_type": "code",
   "execution_count": 1152,
   "metadata": {
    "collapsed": false
   },
   "outputs": [],
   "source": [
    "# define symbols for sympy\n",
    "tff, tfm, tmf, tmm = symbols('tff tfm tmf tmm')\n",
    "afi, afji, afff, affm, afjff, afjfm, af = symbols('afi afji afff affm afjff afjfm af')\n",
    "ami, amji, ammm, ammf, amjmf, amjmm, am = symbols('ami amji ammm ammf amjmf amjmm am')\n",
    "df, dm, f, s, nf, nm, vf, vm, cf, cm, um, uf, i, k, q, a = symbols('df dm f s nf nm vf vm cf cm um uf i k q a')"
   ]
  },
  {
   "cell_type": "code",
   "execution_count": 1153,
   "metadata": {
    "collapsed": true
   },
   "outputs": [],
   "source": [
    "# some substitution lists\n",
    "## transmission coefficients in diploids\n",
    "tij_diploid = [(tff,1/2),(tfm,1/2),(tmf,1/2),(tmm,1/2)]\n",
    "tij_haplodiploid = [(tff,1/2),(tfm,1/2),(tmf,1),(tmm,0)]\n",
    "af_vals = [(afi,af),(afji,af),(afff,af),(affm,af),(afjff,af),(afjfm,af)]\n",
    "am_vals = [(ami,am),(amji,am),(ammm,am),(amjmf,am),(amjmm,am)]"
   ]
  },
  {
   "cell_type": "markdown",
   "metadata": {},
   "source": [
    "## Mutant transition probabilities for $a_{\\mathrm{f}}$"
   ]
  },
  {
   "cell_type": "code",
   "execution_count": 1154,
   "metadata": {
    "collapsed": true
   },
   "outputs": [],
   "source": [
    "# expected number of daughters produced by female bearing mutant af allele\n",
    "wff = 1/2 * tff * f(afi) * (\n",
    "    (1-df) * s(afji) / (f(afff) * (1-df) * s(afjff) + f(af) * df * s(af))\n",
    "    +\n",
    "    df * s(afji) / (f(af) * s(af))\n",
    ")"
   ]
  },
  {
   "cell_type": "code",
   "execution_count": 1155,
   "metadata": {
    "collapsed": true
   },
   "outputs": [],
   "source": [
    "# expected number of sons produced by female bearing mutant af allele\n",
    "wmf = 1/2 * tmf * f(afi) * (\n",
    "    nm * (1-dm) / (nf * (f(afff) * (1-dm) + f(af) * dm))\n",
    "    +\n",
    "    nm * dm / (nf * f(af))\n",
    ")"
   ]
  },
  {
   "cell_type": "code",
   "execution_count": 1156,
   "metadata": {
    "collapsed": true
   },
   "outputs": [],
   "source": [
    "# expected number of daughters produced by male bearing mutant af allele\n",
    "wfm = 1/2 * tfm * nf / nm * f(affm) * (\n",
    "    (1-df) * s(afji) / (f(affm) * (1-df) * s(afjfm) + f(af) * df * s(af))\n",
    "    +\n",
    "    df * s(afji)  / (f(af) * s(af))\n",
    ")"
   ]
  },
  {
   "cell_type": "code",
   "execution_count": 1157,
   "metadata": {
    "collapsed": true
   },
   "outputs": [],
   "source": [
    "# expected number of sons produced by male bearing the mutant af allele\n",
    "wmm = 1/2 * tmm * nf / nm * f(affm) * (\n",
    "    nm * (1-dm) / (nf * (f(affm) * (1-dm) + f(af) * dm))\n",
    "    +\n",
    "    nm * dm / (nf * f(af))\n",
    ")"
   ]
  },
  {
   "cell_type": "markdown",
   "metadata": {},
   "source": [
    "# Mutant transition probabilities for $a_{\\mathrm{m}}$"
   ]
  },
  {
   "cell_type": "code",
   "execution_count": 1158,
   "metadata": {
    "collapsed": false
   },
   "outputs": [],
   "source": [
    "wam_ff = 1/2 * tff\n",
    "wam_mf = 1/2 * tmf * (\n",
    "    nm * (1-dm) * s(amji) / (nf * ((1-dm) * s(amjmf) + dm * s(am)))\n",
    "    +\n",
    "    nm * dm * s(amji) / (nf * s(am))\n",
    "    )\n",
    "wam_fm = 1/2 * tfm * nf / nm * f(ami) / f(ammm)\n",
    "wam_mm = 1/2 * tmm * nf / nm * f(ami) / f(ammm) * (\n",
    "    nm * (1-dm) * s(amji) / (nf * ((1-dm) * s(amjmm) + dm * s(am)))\n",
    "    +\n",
    "    nm * dm * s(amji) / (nf * s(am))\n",
    ")"
   ]
  },
  {
   "cell_type": "markdown",
   "metadata": {},
   "source": [
    "## Reproductive values and stable class frequencies"
   ]
  },
  {
   "cell_type": "code",
   "execution_count": 1159,
   "metadata": {
    "collapsed": true
   },
   "outputs": [],
   "source": [
    "# mutant transition matrix\n",
    "Amut = Matrix([[wff, wfm],[wmf, wmm]])"
   ]
  },
  {
   "cell_type": "code",
   "execution_count": 1160,
   "metadata": {
    "collapsed": false
   },
   "outputs": [
    {
     "data": {
      "text/latex": [
       "$$\\left[\\begin{matrix}0.5 tff & \\frac{0.5 nf}{nm} tfm\\\\\\frac{0.5 nm}{nf} tmf & 0.5 tmm\\end{matrix}\\right]$$"
      ],
      "text/plain": [
       "⎡            0.5⋅nf⋅tfm⎤\n",
       "⎢ 0.5⋅tff    ──────────⎥\n",
       "⎢                nm    ⎥\n",
       "⎢                      ⎥\n",
       "⎢0.5⋅nm⋅tmf            ⎥\n",
       "⎢──────────   0.5⋅tmm  ⎥\n",
       "⎣    nf                ⎦"
      ]
     },
     "execution_count": 1160,
     "metadata": {},
     "output_type": "execute_result"
    }
   ],
   "source": [
    "# resident transition matrix\n",
    "A = Amut.subs(af_vals)\n",
    "simplify(A)"
   ]
  },
  {
   "cell_type": "markdown",
   "metadata": {},
   "source": [
    "Calculate eigenvalues"
   ]
  },
  {
   "cell_type": "code",
   "execution_count": 1161,
   "metadata": {
    "collapsed": false
   },
   "outputs": [
    {
     "data": {
      "text/latex": [
       "$$\\frac{tff}{4} + \\frac{tmm}{4} + \\frac{1}{4} \\sqrt{tff^{2} - 2 tff tmm + 4 tfm tmf + tmm^{2}}$$"
      ],
      "text/plain": [
       "               _____________________________________\n",
       "              ╱    2                              2 \n",
       "tff   tmm   ╲╱  tff  - 2⋅tff⋅tmm + 4⋅tfm⋅tmf + tmm  \n",
       "─── + ─── + ────────────────────────────────────────\n",
       " 4     4                       4                    "
      ]
     },
     "execution_count": 1161,
     "metadata": {},
     "output_type": "execute_result"
    }
   ],
   "source": [
    "Aevals = A.eigenvals()\n",
    "\n",
    "# get dominant eigenvalue, for some obscure reason this is \n",
    "# packed in a dictionary, so unpack it\n",
    "ev = list(Aevals.keys())[1]\n",
    "ev"
   ]
  },
  {
   "cell_type": "markdown",
   "metadata": {},
   "source": [
    "### Reproductive values and class frequencies: diplodiploids"
   ]
  },
  {
   "cell_type": "markdown",
   "metadata": {},
   "source": [
    "Calculate dominant right eigenvector"
   ]
  },
  {
   "cell_type": "code",
   "execution_count": 1162,
   "metadata": {
    "collapsed": false
   },
   "outputs": [
    {
     "data": {
      "text/latex": [
       "$$\\left [ \\left ( uf, \\quad \\frac{1.0 nf}{nf + nm}\\right ), \\quad \\left ( um, \\quad \\frac{1.0 nm}{nf + nm}\\right )\\right ]$$"
      ],
      "text/plain": [
       "⎡⎛     1.0⋅nf⎞  ⎛     1.0⋅nm⎞⎤\n",
       "⎢⎜uf, ───────⎟, ⎜um, ───────⎟⎥\n",
       "⎣⎝    nf + nm⎠  ⎝    nf + nm⎠⎦"
      ]
     },
     "execution_count": 1162,
     "metadata": {},
     "output_type": "execute_result"
    }
   ],
   "source": [
    "rvec_diploid = Matrix((1/ev * A).subs(tij_diploid).eigenvects()[1][2])\n",
    "rvec_diploid = (rvec_diploid / sum(rvec_diploid[p,0] for p in range(0,2))).applyfunc(simplify)\n",
    "u_diploid = [(uf,rvec_diploid[0,0]),(um,rvec_diploid[1,0])]\n",
    "u_diploid"
   ]
  },
  {
   "cell_type": "markdown",
   "metadata": {},
   "source": [
    "Calculate dominant left eigenvector"
   ]
  },
  {
   "cell_type": "code",
   "execution_count": 1163,
   "metadata": {
    "collapsed": false
   },
   "outputs": [
    {
     "data": {
      "text/latex": [
       "$$\\left [ \\left ( vf, \\quad \\frac{1}{nf} \\left(0.5 nf + 0.5 nm\\right)\\right ), \\quad \\left ( vm, \\quad \\frac{1}{nm} \\left(0.5 nf + 0.5 nm\\right)\\right )\\right ]$$"
      ],
      "text/plain": [
       "⎡⎛    0.5⋅(nf + nm)⎞  ⎛    0.5⋅(nf + nm)⎞⎤\n",
       "⎢⎜vf, ─────────────⎟, ⎜vm, ─────────────⎟⎥\n",
       "⎣⎝          nf     ⎠  ⎝          nm     ⎠⎦"
      ]
     },
     "execution_count": 1163,
     "metadata": {},
     "output_type": "execute_result"
    }
   ],
   "source": [
    "lvec_diploid = Matrix(((1/ev) * A.T).subs(tij_diploid).eigenvects()[1][2]).T\n",
    "lvec_diploid = (lvec_diploid / simplify(lvec_diploid * rvec_diploid)[0,0]).applyfunc(simplify).applyfunc(together)\n",
    "v_diploid = [(vf,lvec_diploid[0,0]),(vm,lvec_diploid[0,1])]\n",
    "v_diploid"
   ]
  },
  {
   "cell_type": "markdown",
   "metadata": {},
   "source": [
    "Class reproductive values"
   ]
  },
  {
   "cell_type": "code",
   "execution_count": 1164,
   "metadata": {
    "collapsed": false
   },
   "outputs": [
    {
     "data": {
      "text/latex": [
       "$$\\left [ \\left ( cf, \\quad 0.5\\right ), \\quad \\left ( cm, \\quad 0.5\\right )\\right ]$$"
      ],
      "text/plain": [
       "[(cf, 0.5), (cm, 0.5)]"
      ]
     },
     "execution_count": 1164,
     "metadata": {},
     "output_type": "execute_result"
    }
   ],
   "source": [
    "c_diploid = [(cf,vf * uf),(cm, vm * um)]\n",
    "c_diploid = [(i[0], i[1].subs(v_diploid + u_diploid)) for i in c_diploid]\n",
    "c_diploid"
   ]
  },
  {
   "cell_type": "markdown",
   "metadata": {},
   "source": [
    "### Reproductive values and class frequencies: haplodiploids"
   ]
  },
  {
   "cell_type": "code",
   "execution_count": 1165,
   "metadata": {
    "collapsed": false
   },
   "outputs": [
    {
     "data": {
      "text/latex": [
       "$$\\left [ \\left ( uf, \\quad \\frac{1.0 nf}{nf + nm}\\right ), \\quad \\left ( um, \\quad \\frac{1.0 nm}{nf + nm}\\right )\\right ]$$"
      ],
      "text/plain": [
       "⎡⎛     1.0⋅nf⎞  ⎛     1.0⋅nm⎞⎤\n",
       "⎢⎜uf, ───────⎟, ⎜um, ───────⎟⎥\n",
       "⎣⎝    nf + nm⎠  ⎝    nf + nm⎠⎦"
      ]
     },
     "execution_count": 1165,
     "metadata": {},
     "output_type": "execute_result"
    }
   ],
   "source": [
    "rvec_haplodiploid = Matrix((1/ev * A).subs(tij_haplodiploid).eigenvects()[1][2])\n",
    "rvec_haplodiploid = (rvec_haplodiploid / sum(rvec_haplodiploid[p,0] for p in range(0,2))).applyfunc(simplify)\n",
    "u_haplodiploid = [(uf, rvec_haplodiploid[0,0]),(um,rvec_haplodiploid[1,0])]\n",
    "u_haplodiploid"
   ]
  },
  {
   "cell_type": "code",
   "execution_count": 1166,
   "metadata": {
    "collapsed": false
   },
   "outputs": [
    {
     "data": {
      "text/latex": [
       "$$\\left [ \\left ( vf, \\quad \\frac{1}{nf} \\left(0.666666666666667 nf + 0.666666666666667 nm\\right)\\right ), \\quad \\left ( vm, \\quad \\frac{1}{nm} \\left(0.333333333333333 nf + 0.333333333333333 nm\\right)\\right )\\right ]$$"
      ],
      "text/plain": [
       "⎡⎛    0.666666666666667⋅(nf + nm)⎞  ⎛    0.333333333333333⋅(nf + nm)⎞⎤\n",
       "⎢⎜vf, ───────────────────────────⎟, ⎜vm, ───────────────────────────⎟⎥\n",
       "⎣⎝                 nf            ⎠  ⎝                 nm            ⎠⎦"
      ]
     },
     "execution_count": 1166,
     "metadata": {},
     "output_type": "execute_result"
    }
   ],
   "source": [
    "lvec_haplodiploid = Matrix((1/ev * A.T).subs(tij_haplodiploid).eigenvects()[1][2]).T\n",
    "lvec_haplodiploid = (lvec_haplodiploid / simplify(lvec_haplodiploid * \n",
    "                                                  rvec_haplodiploid)[0,0]).applyfunc(simplify).applyfunc(together)\n",
    "v_haplodiploid = [(vf,lvec_haplodiploid[0,0]),(vm,lvec_haplodiploid[0,1])]\n",
    "v_haplodiploid"
   ]
  },
  {
   "cell_type": "code",
   "execution_count": 1167,
   "metadata": {
    "collapsed": false
   },
   "outputs": [
    {
     "data": {
      "text/latex": [
       "$$\\left [ \\left ( cf, \\quad 0.666666666666667\\right ), \\quad \\left ( cm, \\quad 0.333333333333333\\right )\\right ]$$"
      ],
      "text/plain": [
       "[(cf, 0.666666666666667), (cm, 0.333333333333333)]"
      ]
     },
     "execution_count": 1167,
     "metadata": {},
     "output_type": "execute_result"
    }
   ],
   "source": [
    "c_haplodiploid = [(cf,vf * uf),(cm, vm * um)]\n",
    "c_haplodiploid = [(i[0], i[1].subs(v_haplodiploid + u_haplodiploid)) for i in c_haplodiploid]\n",
    "c_haplodiploid"
   ]
  },
  {
   "cell_type": "markdown",
   "metadata": {},
   "source": [
    "## Relatedness coefficients"
   ]
  },
  {
   "cell_type": "markdown",
   "metadata": {},
   "source": [
    "### Diplodiploidy"
   ]
  },
  {
   "cell_type": "markdown",
   "metadata": {},
   "source": [
    "Juvenile coefficients of consanguinity, $Q_{ij}^{\\mathrm{J}}$"
   ]
  },
  {
   "cell_type": "code",
   "execution_count": 1168,
   "metadata": {
    "collapsed": false
   },
   "outputs": [],
   "source": [
    "Qff, Qmm, Qmf, Qfm, Qf, Qm = symbols('Qff Qmm Qmf Qfm Qf Qm')\n",
    "QffJ, QmmJ, QmfJ, QfmJ = symbols('QffJ QmmJ QmfJ QfmJ')\n",
    "hf, hm = symbols('hf hm')\n",
    "hf = 1-df\n",
    "hm = 1-dm\n",
    "Qsjuv = [Eq(QffJ, 1/4 * (1/nf * Qf + (nf-1)/nf * Qff) + 1/2 * Qmf + 1/4 * (1/nm * Qm + (nm-1)/nm * Qmm)),\n",
    "         Eq(QmmJ, QffJ),\n",
    "         Eq(QfmJ, QffJ),\n",
    "         Eq(QmfJ, QffJ)\n",
    "        ]"
   ]
  },
  {
   "cell_type": "markdown",
   "metadata": {},
   "source": [
    "Adult coefficients of consanguinity, $Q_{ij}$"
   ]
  },
  {
   "cell_type": "code",
   "execution_count": 1169,
   "metadata": {
    "collapsed": false
   },
   "outputs": [],
   "source": [
    "Qad = [Eq(Qf, 1/2 * (1 + Qfm)),\n",
    "       Eq(Qm, Qf),\n",
    "    Eq(Qff, hf**2 * QffJ),\n",
    "      Eq(Qmm, hm**2 * QmmJ),\n",
    "      Eq(Qfm, hf * hm * QfmJ),\n",
    "      Eq(Qmf, Qfm) \n",
    "      ]"
   ]
  },
  {
   "cell_type": "code",
   "execution_count": 1170,
   "metadata": {
    "collapsed": false
   },
   "outputs": [],
   "source": [
    "Qsols_diploid=solve(Qsjuv+Qad,[QffJ, QmmJ, QfmJ, QmfJ, Qf, Qm, Qff, Qmm, Qfm, Qmf],dict=True)\n",
    "Qsols_diploid = [(key,val) for key, val in Qsols_diploid[0].items()]"
   ]
  },
  {
   "cell_type": "markdown",
   "metadata": {},
   "source": [
    "Relatedness coefficients - offspring expression of age at maturity"
   ]
  },
  {
   "cell_type": "code",
   "execution_count": 1171,
   "metadata": {
    "collapsed": false
   },
   "outputs": [],
   "source": [
    "# first define all necessary symbols\n",
    "Rim, Rif = symbols('Rim Rif')\n",
    "RfownJf, RfownJm, RmownJf, RmownJm = symbols('RfownJf RfownJm RmownJf RmownJm')\n",
    "RflocJf, RflocJm, RmlocJf, RmlocJm = symbols('RflocJf RflocJm RmlocJf RmlocJm')\n",
    "Rff, Rfm, Rmf, Rmm = symbols('Rff Rfm Rmf Rmm')"
   ]
  },
  {
   "cell_type": "code",
   "execution_count": 1172,
   "metadata": {
    "collapsed": false
   },
   "outputs": [],
   "source": [
    "Rij_diploid = [(Rim, Qm),(Rif, Qf),\n",
    "       (RfownJf, Qf),(RfownJm, Qm),(RmownJf, Qf),(RmownJm, Qm),\n",
    "        (RflocJf, 1/2 * (1/nf * Qf + (nf-1)/nf * Qff) +  1/2 * Qfm),\n",
    "       (RflocJm, 1/2 * (1/nf * Qf + (nf-1)/nf * Qff) +  1/2 * Qfm),\n",
    "       (RmlocJf, 1/2 * (1/nm * Qm + (nm-1)/nm * Qmm) + 1/2 * Qfm),\n",
    "       (RmlocJm, 1/2 * (1/nm * Qm + (nm-1)/nm * Qmm) + 1/2 * Qfm),\n",
    "       (Rff, Qff),\n",
    "       (Rfm, Qfm),\n",
    "       (Rmf, Qmf),\n",
    "       (Rmm, Qmm)\n",
    "      ]\n"
   ]
  },
  {
   "cell_type": "markdown",
   "metadata": {},
   "source": [
    "Relatedness coefficients - expression by maternally inherited alleles"
   ]
  },
  {
   "cell_type": "code",
   "execution_count": 1173,
   "metadata": {
    "collapsed": true
   },
   "outputs": [],
   "source": [
    "RijMI_diploid = [(Rim, Qm), \n",
    "                 (Rif, Qf),\n",
    "        (RfownJf, 1), \n",
    "                 (RfownJm, 1), \n",
    "                 (RmownJf, Qfm), \n",
    "                 (RmownJm, Qfm),\n",
    "         (RflocJf, 1/nf * Qf + (nf-1)/nf * Qff),\n",
    "                 (RflocJm, 1/nf * Qf + (nf-1)/nf * Qff),\n",
    "                 (RmlocJf, Qfm),\n",
    "                 (RmlocJm, Qfm),\n",
    "                 (Rff, 1/2 * (1/nf * Qf + (nf-1)/nf * Qff) + 1/2 * Qfm),\n",
    "                 (Rfm, 1/2 * (1/nf * Qf + (nf-1)/nf * Qff) + 1/2 * Qfm),\n",
    "                 (Rmf, 1/2 * (1/nf * Qf + (nf-1)/nf * Qff) + 1/2 * Qfm),\n",
    "                 (Rmm, 1/2 * (1/nf * Qf + (nf-1)/nf * Qff) + 1/2 * Qfm)\n",
    "        ]"
   ]
  },
  {
   "cell_type": "markdown",
   "metadata": {},
   "source": [
    "Relatedness coefficients - expression by paternally inherited alleles"
   ]
  },
  {
   "cell_type": "code",
   "execution_count": 1174,
   "metadata": {
    "collapsed": true
   },
   "outputs": [],
   "source": [
    "RijPI_diploid = [(Rim, Qm),(Rif, Qf),\n",
    "                (RfownJf, Qfm),\n",
    "                (RfownJm, Qfm),\n",
    "                (RmownJf, 1),\n",
    "                (RmownJm, 1),\n",
    "                (RflocJf, Qfm),\n",
    "                (RflocJm, Qfm),\n",
    "                (RmlocJf, 1/nm * Qm + (nm-1)/nm * Qmm),\n",
    "                (RmlocJm, 1/nm * Qm + (nm-1)/nm * Qmm),\n",
    "                (Rff, 1/2 * (1/nm * Qm + (nm-1)/nm * Qmm) + 1/2 * Qfm),\n",
    "                (Rfm, 1/2 * (1/nm * Qm + (nm-1)/nm * Qmm) + 1/2 * Qfm),\n",
    "                 (Rmf, 1/2 * (1/nm * Qm + (nm-1)/nm * Qmm) + 1/2 * Qfm),\n",
    "                 (Rmm, 1/2 * (1/nm * Qm + (nm-1)/nm * Qmm) + 1/2 * Qfm)\n",
    "                ]"
   ]
  },
  {
   "cell_type": "markdown",
   "metadata": {},
   "source": [
    "## Relatedness and consanguinity - haplodiploidy"
   ]
  },
  {
   "cell_type": "code",
   "execution_count": 1175,
   "metadata": {
    "collapsed": false
   },
   "outputs": [],
   "source": [
    "\n",
    "Qsjuv_haplo = [Eq(QffJ, 1/4 * (1/nf * Qf + (nf-1)/nf * Qff) + 1/2 * Qmf + 1/4 * (1/nm * Qm + (nm-1)/nm * Qmm)),\n",
    "         Eq(QmmJ, 1/nf * Qf + (nf-1)/nf * Qff),\n",
    "         Eq(QfmJ, 1/2 * (1/nf * Qf + (nf-1)/nf * Qff) + 1/2 * Qfm),\n",
    "         Eq(QmfJ, QfmJ)\n",
    "        ]\n",
    "            \n",
    "Qad_haplo = [Eq(Qf, 1/2 * (1 + Qfm)),\n",
    "       Eq(Qm, 1),\n",
    "    Eq(Qff, hf**2 * QffJ),\n",
    "      Eq(Qmm, hm**2 * QmmJ),\n",
    "      Eq(Qfm, hf * hm * QfmJ),\n",
    "      Eq(Qmf, Qfm) \n",
    "      ]\n",
    "Qsols_haplodiploid=solve(Qsjuv_haplo+Qad_haplo,[QffJ, QmmJ, QfmJ, QmfJ, Qf, Qm, Qff, Qmm, Qfm, Qmf],dict=True)\n",
    "Qsols_haplodiploid = [(key,val) for key, val in Qsols_haplodiploid[0].items()]"
   ]
  },
  {
   "cell_type": "code",
   "execution_count": 1176,
   "metadata": {
    "collapsed": true
   },
   "outputs": [],
   "source": [
    "Rij_haplodiploid = [\n",
    "    (Rim, Qm),\n",
    "    (Rif, Qf),\n",
    "    (RfownJf, Qf),\n",
    "    (RfownJm, Qm),\n",
    "    (RmownJf, Qf),\n",
    "    (RmownJm, Qmf),\n",
    "    (RflocJf, 1/2 * (1/nf * Qf + (nf-1)/nf * Qff) +  1/2 * Qfm),\n",
    "    (RflocJm, 1/nf * Qf + (nf-1)/nf * Qff),\n",
    "    (RmlocJf, 1/2 * (1/nm * Qm + (nm-1)/nm * Qmm) + 1/2 * Qfm),\n",
    "    (RmlocJm, Qfm),\n",
    "    (Rff, Qff),\n",
    "    (Rfm, Qfm),\n",
    "    (Rmf, Qmf),\n",
    "    (Rmm, Qmm)\n",
    "      ]"
   ]
  },
  {
   "cell_type": "code",
   "execution_count": 1177,
   "metadata": {
    "collapsed": false
   },
   "outputs": [],
   "source": [
    "RijMI_haplodiploid = [\n",
    "    (Rim, Qm),\n",
    "    (Rif, Qf),\n",
    "    (RfownJf, 1),\n",
    "    (RfownJm, 1),\n",
    "    (RmownJf, Qfm),\n",
    "    (RmownJm, Qfm),\n",
    "    (RflocJf, 1/nf * Qf + (nf-1)/nf * Qff),\n",
    "    (RflocJm, 1/nf * Qf + (nf-1)/nf * Qff),\n",
    "    (RmlocJf, Qfm),\n",
    "    (RmlocJm, Qfm),\n",
    "    (Rff, 1/2 * (1/nf * Qf + (nf-1)/nf * Qff) + 1/2 * Qfm),\n",
    "    (Rfm, 1/2 * (1/nf * Qf + (nf-1)/nf * Qff) + 1/2 * Qfm),\n",
    "    (Rmf, 1/nf * Qf + (nf-1)/nf * Qff),\n",
    "    (Rmm, 1/nf * Qf + (nf-1)/nf * Qff)\n",
    "      ]"
   ]
  },
  {
   "cell_type": "code",
   "execution_count": 1178,
   "metadata": {
    "collapsed": true
   },
   "outputs": [],
   "source": [
    "RijPI_haplodiploid = [\n",
    "    (Rim, Qm),\n",
    "    (Rif, Qf),\n",
    "    (RfownJf, Qfm),\n",
    "    (RfownJm, Qm),\n",
    "    (RmownJf, 1),\n",
    "    (RmownJm, Qfm),\n",
    "    (RflocJf, Qfm),\n",
    "    (RflocJm, 1/nf * Qf + (nf-1)/nf * Qff),\n",
    "    (RmlocJf, 1/nm * Qm + (nm-1)/nm * Qmm),\n",
    "    (RmlocJm, Qfm),\n",
    "    (Rff, 1/2 * (1/nm * Qm + (nm-1)/nm * Qmm) + 1/2 * Qfm),\n",
    "    (Rfm, Qfm),\n",
    "    (Rmf, Qmf),\n",
    "    (Rmm, Qmm)\n",
    "      ]"
   ]
  },
  {
   "cell_type": "markdown",
   "metadata": {},
   "source": [
    "# Selection gradients"
   ]
  },
  {
   "cell_type": "code",
   "execution_count": 1179,
   "metadata": {
    "collapsed": false
   },
   "outputs": [],
   "source": [
    "wf = wff + vm / vf * wmf\n",
    "wm = wmm + vf / vm * wfm"
   ]
  },
  {
   "cell_type": "code",
   "execution_count": 1180,
   "metadata": {
    "collapsed": false
   },
   "outputs": [],
   "source": [
    "func_sub = [(f(af),(k * af)**3),(s(af),exp(-q * af)),(f(am),(k * am)**3),(s(am),exp(-q * am))]"
   ]
  },
  {
   "cell_type": "markdown",
   "metadata": {},
   "source": [
    "Selection gradient on $a_{\\mathrm{f}}$"
   ]
  },
  {
   "cell_type": "code",
   "execution_count": 1181,
   "metadata": {
    "collapsed": false
   },
   "outputs": [],
   "source": [
    "dwdaf = cf * (diff(wf,afi) * Rif \n",
    "              + diff(wf,afji) * RfownJf \n",
    "              + diff(wf, afff) * Rff \n",
    "              + diff(wf, afjff) * RflocJf\n",
    "              ) + cm * (\n",
    "            diff(wm,afji) * RmownJf\n",
    "            + diff(wm,affm) * Rmf\n",
    "            + diff(wm, afjfm) * RmlocJf\n",
    "            )\n",
    "# substitute for relatedness coefficients, reproductive values, transmission coefficients\n",
    "# and functions\n",
    "dwdaf_diploid = dwdaf.subs(Rij_diploid).subs(Qsols_diploid).subs(\n",
    "    c_diploid + v_diploid + u_diploid).subs(tij_diploid + af_vals).subs(func_sub).doit()\n",
    "dwdafMI_diploid = dwdaf.subs(RijMI_diploid).subs(Qsols_diploid).subs(\n",
    "    c_diploid + v_diploid + u_diploid).subs(tij_diploid + af_vals).subs(func_sub).doit()\n",
    "dwdafPI_diploid = dwdaf.subs(RijPI_diploid).subs(Qsols_diploid).subs(\n",
    "    c_diploid + v_diploid + u_diploid).subs(tij_diploid + af_vals).subs(func_sub).doit()\n",
    "\n",
    "dwdaf_haplodiploid = dwdaf.subs(Rij_haplodiploid).subs(Qsols_haplodiploid).subs(\n",
    "    c_haplodiploid + v_haplodiploid + u_haplodiploid).subs(tij_haplodiploid + af_vals).subs(func_sub).doit()\n",
    "dwdafMI_haplodiploid = dwdaf.subs(RijMI_haplodiploid).subs(Qsols_haplodiploid).subs(\n",
    "    c_haplodiploid + v_haplodiploid + u_haplodiploid).subs(tij_haplodiploid + af_vals).subs(func_sub).doit()\n",
    "dwdafPI_haplodiploid = dwdaf.subs(RijPI_haplodiploid).subs(Qsols_haplodiploid).subs(\n",
    "    c_haplodiploid + v_haplodiploid + u_haplodiploid).subs(tij_haplodiploid + af_vals).subs(func_sub).doit()\n"
   ]
  },
  {
   "cell_type": "markdown",
   "metadata": {},
   "source": [
    "Selection gradient on $a_{\\mathrm{m}}$"
   ]
  },
  {
   "cell_type": "code",
   "execution_count": 1182,
   "metadata": {
    "collapsed": false
   },
   "outputs": [],
   "source": [
    "wam_f = wam_ff + vm / vf * wam_mf\n",
    "wam_m = wam_mm + vf / vm * wam_fm"
   ]
  },
  {
   "cell_type": "code",
   "execution_count": 1183,
   "metadata": {
    "collapsed": false
   },
   "outputs": [],
   "source": [
    "dam = cf * (diff(wam_f,amji) * RfownJm\n",
    "            + diff(wam_f,amjmf) * RflocJm\n",
    "            ) + cm * (\n",
    "        diff(wam_m,ami) * Rim\n",
    "            + diff(wam_m,amji) * RmownJm\n",
    "            + diff(wam_m,ammm) * Rmm\n",
    "            + diff(wam_m,amjmm) * RmlocJm\n",
    "        )\n",
    "# substitute for relatedness coefficients, reproductive values, transmission coefficients\n",
    "# and functions\n",
    "dwdam_diploid = dwdam.subs(Rij_diploid).subs(Qsols_diploid).subs(\n",
    "    c_diploid + v_diploid + u_diploid).subs(tij_diploid + am_vals).subs(func_sub).doit()\n",
    "dwdamMI_diploid = dwdam.subs(RijMI_diploid).subs(Qsols_diploid).subs(\n",
    "    c_diploid + v_diploid + u_diploid).subs(tij_diploid + am_vals).subs(func_sub).doit()\n",
    "dwdamPI_diploid = dwdam.subs(RijPI_diploid).subs(Qsols_diploid).subs(\n",
    "    c_diploid + v_diploid + u_diploid).subs(tij_diploid + am_vals).subs(func_sub).doit()\n",
    "\n",
    "dwdam_haplodiploid = dwdam.subs(Rij_haplodiploid).subs(Qsols_haplodiploid).subs(\n",
    "    c_haplodiploid + v_haplodiploid + u_haplodiploid).subs(tij_haplodiploid + am_vals).subs(func_sub).doit()\n",
    "dwdamMI_haplodiploid = dwdam.subs(RijMI_haplodiploid).subs(Qsols_haplodiploid).subs(\n",
    "    c_haplodiploid + v_haplodiploid + u_haplodiploid).subs(tij_haplodiploid + am_vals).subs(func_sub).doit()\n",
    "dwdamPI_haplodiploid = dwdam.subs(RijPI_haplodiploid).subs(Qsols_haplodiploid).subs(\n",
    "    c_haplodiploid + v_haplodiploid + u_haplodiploid).subs(tij_haplodiploid + am_vals).subs(func_sub).doit()\n"
   ]
  },
  {
   "cell_type": "markdown",
   "metadata": {},
   "source": [
    "## Numerical evaluation of evolutionarily singular strategies"
   ]
  },
  {
   "cell_type": "code",
   "execution_count": 1184,
   "metadata": {
    "collapsed": false
   },
   "outputs": [],
   "source": [
    "def ans_diploid(dfs=0.5, dms=0.5, nms=2, nfs=2, ks=1/3, qs=1, ainit=1.5):\n",
    "    subs_list = [(df,dfs),(dm,dms),(nm,nms),(nf,nfs),(k,ks),(q,qs)]\n",
    "    solval = nsolve(\n",
    "        (Eq(dwdaf_diploid.subs(subs_list),0),Eq(dwdam_diploid.subs(subs_list),0)),\n",
    "        (af,am),(ainit,ainit)\n",
    "    )\n",
    "    return(list(solval))\n",
    "\n",
    "def ans_diploid_MI(dfs=0.5, dms=0.5, nms=2, nfs=2, ks=1/3, qs=1, ainit=1.5):\n",
    "    subs_list = [(df,dfs),(dm,dms),(nm,nms),(nf,nfs),(k,ks),(q,qs)]\n",
    "    solval = nsolve(\n",
    "        (Eq(dwdafMI_diploid.subs(subs_list),0),Eq(dwdamMI_diploid.subs(subs_list),0)),\n",
    "        (af,am),(ainit,ainit)\n",
    "    )\n",
    "    return(list(solval))\n",
    "\n",
    "def ans_diploid_PI(dfs=0.5, dms=0.5, nms=2, nfs=2, ks=1/3, qs=1, ainit=1.5):\n",
    "    subs_list = [(df,dfs),(dm,dms),(nm,nms),(nf,nfs),(k,ks),(q,qs)]\n",
    "    solval = nsolve(\n",
    "        (Eq(dwdafPI_diploid.subs(subs_list),0),Eq(dwdamPI_diploid.subs(subs_list),0)),\n",
    "        (af,am),(ainit,ainit)\n",
    "    )\n",
    "    return(list(solval))\n",
    "\n",
    "def ans_haplodiploid(dfs=0.5, dms=0.5, nms=2, nfs=2, ks=1/3, qs=1, ainit=1.5):\n",
    "    subs_list = [(df,dfs),(dm,dms),(nm,nms),(nf,nfs),(k,ks),(q,qs)]\n",
    "    solval = nsolve(\n",
    "        (Eq(dwdaf_haplodiploid.subs(subs_list),0),Eq(dwdam_haplodiploid.subs(subs_list),0)),\n",
    "        (af,am),(ainit,ainit)\n",
    "    )\n",
    "    return(list(solval))\n",
    "\n",
    "def ans_haplodiploid_MI(dfs=0.5, dms=0.5, nms=2, nfs=2, ks=1/3, qs=1, ainit=1.5):\n",
    "    subs_list = [(df,dfs),(dm,dms),(nm,nms),(nf,nfs),(k,ks),(q,qs)]\n",
    "    solval = nsolve(\n",
    "        (Eq(dwdafMI_haplodiploid.subs(subs_list),0),Eq(dwdamMI_haplodiploid.subs(subs_list),0)),\n",
    "        (af,am),(ainit,ainit)\n",
    "    )\n",
    "    return(list(solval))\n",
    "\n",
    "def ans_haplodiploid_PI(dfs=0.5, dms=0.5, nms=2, nfs=2, ks=1/3, qs=1, ainit=1.5):\n",
    "    subs_list = [(df,dfs),(dm,dms),(nm,nms),(nf,nfs),(k,ks),(q,qs)]\n",
    "    solval = nsolve(\n",
    "        (Eq(dwdafPI_haplodiploid.subs(subs_list),0),Eq(dwdamPI_haplodiploid.subs(subs_list),0)),\n",
    "        (af,am),(ainit,ainit)\n",
    "    )\n",
    "    return(list(solval))"
   ]
  },
  {
   "cell_type": "code",
   "execution_count": 1185,
   "metadata": {
    "collapsed": false
   },
   "outputs": [],
   "source": [
    "dmvals = list(np.arange(0,1.05,0.05))\n",
    "\n",
    "# calculate singular strategies; diplodiploidy\n",
    "yvals = [ ans_diploid(dms=dmi,nms=2,nfs=2,dfs=0.5) for dmi in dmvals ]\n",
    "yvalsMI = [ ans_diploid_MI(dms=dmi,nms=2,nfs=2,dfs=0.5) for dmi in dmvals ]\n",
    "yvalsPI = [ ans_diploid_PI(dms=dmi,nms=2,nfs=2,dfs=0.5) for dmi in dmvals ]\n",
    "\n",
    "\n",
    "# transpose the list so that af* is the first entry\n",
    "# and am* the second one\n",
    "yvals = list(map(list,zip(*yvals)))\n",
    "yvalsMI = list(map(list,zip(*yvalsMI)))\n",
    "yvalsPI = list(map(list,zip(*yvalsPI)))"
   ]
  },
  {
   "cell_type": "code",
   "execution_count": 1186,
   "metadata": {
    "collapsed": false
   },
   "outputs": [
    {
     "data": {
      "text/plain": [
       "[<matplotlib.lines.Line2D at 0x10ff4dfd0>,\n",
       " <matplotlib.lines.Line2D at 0x10ff4c2b0>]"
      ]
     },
     "execution_count": 1186,
     "metadata": {},
     "output_type": "execute_result"
    },
    {
     "data": {
      "image/png": "[encoded data removed]",
      "text/plain": [
       "<matplotlib.figure.Figure at 0x1108b1e48>"
      ]
     },
     "metadata": {},
     "output_type": "display_data"
    }
   ],
   "source": [
    "plt.ylim((0,5))\n",
    "plt.xlim((-0.05,1.05))\n",
    "plt.plot(dmvals,yvals[0],'r',dmvals,yvals[1],'b',)\n",
    "plt.plot(dmvals,yvalsPI[0],'g',dmvals,yvalsPI[1],'m',linestyle=(0,(10,6)))\n",
    "plt.plot(dmvals,yvalsMI[0],'#ffae00',dmvals,yvalsMI[1],'#0090ff',linestyle=(0,(5,3)))"
   ]
  },
  {
   "cell_type": "code",
   "execution_count": 1187,
   "metadata": {
    "collapsed": false
   },
   "outputs": [
    {
     "data": {
      "text/plain": [
       "[<matplotlib.lines.Line2D at 0x1108920b8>,\n",
       " <matplotlib.lines.Line2D at 0x1102461d0>]"
      ]
     },
     "execution_count": 1187,
     "metadata": {},
     "output_type": "execute_result"
    },
    {
     "data": {
      "image/png": "[encoded data removed]",
      "text/plain": [
       "<matplotlib.figure.Figure at 0x110a50240>"
      ]
     },
     "metadata": {},
     "output_type": "display_data"
    }
   ],
   "source": [
    "\n",
    "# calculate singular strategies for haplodiploidy\n",
    "yvals_haplo = [ ans_haplodiploid(dms=dmi,nms=2,nfs=2,dfs=0.5) for dmi in dmvals ]\n",
    "yvalsMI_haplo = [ ans_haplodiploid_MI(dms=dmi,nms=2,nfs=2,dfs=0.5) for dmi in dmvals ]\n",
    "yvalsPI_haplo = [ ans_haplodiploid_PI(dms=dmi,nms=2,nfs=2,dfs=0.5) for dmi in dmvals ]\n",
    "\n",
    "\n",
    "# transpose the list so that af* is the first entry\n",
    "# and am* the second one\n",
    "yvals_haplo = list(map(list,zip(*yvals_haplo)))\n",
    "yvalsMI_haplo = list(map(list,zip(*yvalsMI_haplo)))\n",
    "yvalsPI_haplo = list(map(list,zip(*yvalsPI_haplo)))\n",
    "\n",
    "plt.ylim((0,5))\n",
    "plt.xlim((-0.05,1.05))\n",
    "plt.plot(dmvals,yvals_haplo[0],'r',dmvals,yvals_haplo[1],'b',)\n",
    "plt.plot(dmvals,yvalsPI_haplo[0],'g',dmvals,yvalsPI_haplo[1],'m',linestyle=(0,(10,6)))\n",
    "plt.plot(dmvals,yvalsMI_haplo[0],'#ffae00',dmvals,yvalsMI_haplo[1],'#0090ff',linestyle=(0,(5,3)))"
   ]
  },
  {
   "cell_type": "markdown",
   "metadata": {},
   "source": [
    "Plot age at maturity as $d_{\\mathrm{m}} = 1-d_{\\mathrm{f}}$"
   ]
  },
  {
   "cell_type": "code",
   "execution_count": 1188,
   "metadata": {
    "collapsed": false
   },
   "outputs": [],
   "source": [
    "dmvals = list(np.arange(0,1.05,0.05))\n",
    "\n",
    "# calculate singular strategies for offspring expression\n",
    "yvals = [ ans_diploid(dms=dmi,nms=2,nfs=2,dfs=1-dmi) for dmi in dmvals ]\n",
    "yvalsMI = [ ans_diploid_MI(dms=dmi,nms=2,nfs=2,dfs=1-dmi) for dmi in dmvals ]\n",
    "yvalsPI = [ ans_diploid_PI(dms=dmi,nms=2,nfs=2,dfs=1-dmi) for dmi in dmvals ]\n",
    "\n",
    "# transpose the list so that af* is the first entry\n",
    "# and am* the second one\n",
    "yvals = list(map(list,zip(*yvals)))\n",
    "yvalsMI = list(map(list,zip(*yvalsMI)))\n",
    "yvalsPI = list(map(list,zip(*yvalsPI)))\n",
    "\n"
   ]
  },
  {
   "cell_type": "code",
   "execution_count": 1189,
   "metadata": {
    "collapsed": false
   },
   "outputs": [
    {
     "data": {
      "text/plain": [
       "<matplotlib.text.Text at 0x110c3a828>"
      ]
     },
     "execution_count": 1189,
     "metadata": {},
     "output_type": "execute_result"
    },
    {
     "data": {
      "image/png": "[encoded data removed]",
      "text/plain": [
       "<matplotlib.figure.Figure at 0x11088ecc0>"
      ]
     },
     "metadata": {},
     "output_type": "display_data"
    }
   ],
   "source": [
    "plt.ylim((0,5))\n",
    "plt.xlim((-0.05,1.05))\n",
    "plt.plot(dmvals, yvals[0],'r')\n",
    "plt.plot(dmvals, yvalsPI[0],'#ffae00',linestyle=(0,(10,6)))#,linestyle=(0,10,6))\n",
    "plt.plot(dmvals, yvalsMI[0],'m',linestyle=(0,(5,3)))#,linestyle=(0,10,6))\n",
    "plt.ylabel(r'Female age at maturity, $a_{\\mathrm{f}}$')\n",
    "plt.xlabel(r'Male dispersal probability, $d_{\\mathrm{m}}=1-d_{\\mathrm{f}}$')"
   ]
  },
  {
   "cell_type": "code",
   "execution_count": 1190,
   "metadata": {
    "collapsed": false
   },
   "outputs": [
    {
     "data": {
      "text/plain": [
       "<matplotlib.text.Text at 0x110d5cf98>"
      ]
     },
     "execution_count": 1190,
     "metadata": {},
     "output_type": "execute_result"
    },
    {
     "data": {
      "image/png": "[encoded data removed]",
      "text/plain": [
       "<matplotlib.figure.Figure at 0x110cbfba8>"
      ]
     },
     "metadata": {},
     "output_type": "display_data"
    }
   ],
   "source": [
    "plt.ylim((0,5))\n",
    "plt.xlim((-0.05,1.05))\n",
    "plt.plot(dmvals, yvals[1],'b')\n",
    "plt.plot(dmvals, yvalsPI[1],'#00b4ff',linestyle=(0,(10,6)))#,linestyle=(0,10,6))\n",
    "plt.plot(dmvals, yvalsMI[1],'#33609f',linestyle=(0,(5,3)))#,linestyle=(0,10,6))\n",
    "plt.ylabel(r'Male age at maturity, $a_{\\mathrm{m}}$')\n",
    "plt.xlabel(r'Male dispersal probability, $d_{\\mathrm{m}}=1-d_{\\mathrm{f}}$')"
   ]
  },
  {
   "cell_type": "code",
   "execution_count": null,
   "metadata": {
    "collapsed": true
   },
   "outputs": [],
   "source": []
  }
 ],
 "metadata": {
  "kernelspec": {
   "display_name": "Python 3",
   "language": "python",
   "name": "python3"
  },
  "language_info": {
   "codemirror_mode": {
    "name": "ipython",
    "version": 3
   },
   "file_extension": ".py",
   "mimetype": "text/x-python",
   "name": "python",
   "nbconvert_exporter": "python",
   "pygments_lexer": "ipython3",
   "version": "3.4.3"
  }
 },
 "nbformat": 4,
 "nbformat_minor": 0
}
